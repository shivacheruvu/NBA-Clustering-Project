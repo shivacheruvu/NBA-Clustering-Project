{
 "cells": [
  {
   "cell_type": "markdown",
   "metadata": {},
   "source": [
    "### Load Data"
   ]
  },
  {
   "cell_type": "code",
   "execution_count": 21,
   "metadata": {},
   "outputs": [
    {
     "name": "stdout",
     "output_type": "stream",
     "text": [
      "458\n",
      "Index(['Unnamed: 0', 'Rk', 'Player', 'Pos', 'Age', 'Tm', 'G', 'GS', 'MP', 'FG',\n",
      "       'FGA', 'FG.', 'X3P', 'X3PA', 'X3P.', 'X2P', 'X2PA', 'X2P.', 'eFG.',\n",
      "       'FT', 'FTA', 'FT.', 'ORB', 'DRB', 'TRB', 'AST', 'STL', 'BLK', 'TOV',\n",
      "       'PF', 'PTS'],\n",
      "      dtype='object')\n"
     ]
    }
   ],
   "source": [
    "import pandas as pd\n",
    "import numpy as np\n",
    "\n",
    "# Load data\n",
    "data = pd.read_csv('game_data_cleaned.csv')\n",
    "print(len(data))\n",
    "print(data.columns)"
   ]
  },
  {
   "cell_type": "markdown",
   "metadata": {},
   "source": [
    "### Preprocess Data"
   ]
  },
  {
   "cell_type": "code",
   "execution_count": 23,
   "metadata": {},
   "outputs": [
    {
     "name": "stdout",
     "output_type": "stream",
     "text": [
      "343 115\n"
     ]
    }
   ],
   "source": [
    "from sklearn.model_selection import train_test_split\n",
    "from sklearn.preprocessing import StandardScaler\n",
    "\n",
    "features = data[['FG', 'FGA', 'FG.',\n",
    "                 'X3P', 'X3PA', 'X3P.',\n",
    "                 'X2P', 'X2PA', 'X2P.',\n",
    "                 'eFG.',\n",
    "                 'FT', 'FTA', 'FT.', \n",
    "                 'ORB', 'DRB', 'TRB', \n",
    "                 'AST', 'STL', 'BLK', \n",
    "                 'TOV', 'PF', 'PTS']]\n",
    "target = data['Pos']\n",
    "\n",
    "\n",
    "# Show descriptive statistics for numerical features\n",
    "# print(features.describe())\n",
    "\n",
    "X_train, X_test, y_train, y_test = train_test_split(features, target, test_size=0.25, random_state=42)\n",
    "print(len(X_train), len(X_test))\n",
    "\n",
    "scaler = StandardScaler()\n",
    "X_train_scaled = scaler.fit_transform(X_train)\n",
    "X_test_scaled = scaler.transform(X_test)\n",
    "\n"
   ]
  },
  {
   "cell_type": "code",
   "execution_count": 24,
   "metadata": {},
   "outputs": [
    {
     "name": "stdout",
     "output_type": "stream",
     "text": [
      "['C', 'PF', 'SG', 'SF', 'PG']\n"
     ]
    }
   ],
   "source": [
    "unique_values = list(set(target))\n",
    "\n",
    "# Print the unique values\n",
    "print(unique_values)"
   ]
  },
  {
   "cell_type": "markdown",
   "metadata": {},
   "source": [
    "### Baseline"
   ]
  },
  {
   "cell_type": "code",
   "execution_count": 42,
   "metadata": {},
   "outputs": [
    {
     "name": "stdout",
     "output_type": "stream",
     "text": [
      "Baseline Model (Most Frequent Class) Evaluation:\n",
      "Accuracy: 0.252\n",
      "F1 Score: 0.102\n",
      "Recall: 0.252\n",
      "Precision: 0.064\n"
     ]
    },
    {
     "name": "stderr",
     "output_type": "stream",
     "text": [
      "c:\\Users\\djp11\\AppData\\Local\\Programs\\Python\\Python311\\Lib\\site-packages\\sklearn\\metrics\\_classification.py:1497: UndefinedMetricWarning: Precision is ill-defined and being set to 0.0 in labels with no predicted samples. Use `zero_division` parameter to control this behavior.\n",
      "  _warn_prf(average, modifier, f\"{metric.capitalize()} is\", len(result))\n"
     ]
    }
   ],
   "source": [
    "import numpy as np\n",
    "from sklearn.metrics import accuracy_score, f1_score, recall_score, precision_score\n",
    "from sklearn.preprocessing import LabelEncoder\n",
    "\n",
    "# Assuming y_train and y_test are defined elsewhere in your code\n",
    "\n",
    "# Encode labels\n",
    "label_encoder = LabelEncoder()\n",
    "y_train_encoded = label_encoder.fit_transform(y_train)\n",
    "y_test_encoded = label_encoder.transform(y_test)\n",
    "\n",
    "# Most frequent class in the training set\n",
    "most_frequent_class = np.bincount(y_train_encoded).argmax()\n",
    "\n",
    "# Predict the most frequent class for all test instances\n",
    "predictions = np.full(shape=y_test_encoded.shape, fill_value=most_frequent_class)\n",
    "\n",
    "# Calculate metrics\n",
    "accuracy = accuracy_score(y_test_encoded, predictions)\n",
    "f1 = f1_score(y_test_encoded, predictions, average='weighted')\n",
    "recall = recall_score(y_test_encoded, predictions, average='weighted')\n",
    "precision = precision_score(y_test_encoded, predictions, average='weighted')\n",
    "\n",
    "# Print the metrics\n",
    "print('Baseline Model (Most Frequent Class) Evaluation:')\n",
    "print(f'Accuracy: {accuracy:.3f}')\n",
    "print(f'F1 Score: {f1:.3f}')\n",
    "print(f'Recall: {recall:.3f}')\n",
    "print(f'Precision: {precision:.3f}')\n"
   ]
  },
  {
   "cell_type": "markdown",
   "metadata": {},
   "source": [
    "### kNN"
   ]
  },
  {
   "cell_type": "code",
   "execution_count": 45,
   "metadata": {},
   "outputs": [
    {
     "name": "stdout",
     "output_type": "stream",
     "text": [
      "              precision    recall  f1-score   support\n",
      "\n",
      "           C       0.72      0.82      0.77        22\n",
      "          PF       0.26      0.20      0.23        25\n",
      "          PG       0.67      0.45      0.54        22\n",
      "          SF       0.29      0.47      0.36        17\n",
      "          SG       0.46      0.45      0.46        29\n",
      "\n",
      "    accuracy                           0.47       115\n",
      "   macro avg       0.48      0.48      0.47       115\n",
      "weighted avg       0.48      0.47      0.47       115\n",
      "\n",
      "Overall Accuracy: 0.470\n",
      "Overall F1 Score: 0.467\n",
      "Overall Recall: 0.470\n",
      "Overall Precision: 0.482\n"
     ]
    }
   ],
   "source": [
    "from sklearn.neighbors import KNeighborsClassifier\n",
    "from sklearn.metrics import classification_report, accuracy_score, f1_score, recall_score, precision_score\n",
    "\n",
    "knn = KNeighborsClassifier(n_neighbors=5)\n",
    "knn.fit(X_train_scaled, y_train)\n",
    "\n",
    "y_pred = knn.predict(X_test_scaled)\n",
    "report_readable = classification_report(y_test, y_pred, zero_division=0)\n",
    "\n",
    "print(report_readable)\n",
    "\n",
    "# Calculate overall accuracy, F1 score, recall, and precision\n",
    "overall_accuracy = accuracy_score(y_test, y_pred)\n",
    "overall_f1 = f1_score(y_test, y_pred, average='weighted')\n",
    "overall_recall = recall_score(y_test, y_pred, average='weighted')\n",
    "overall_precision = precision_score(y_test, y_pred, average='weighted')\n",
    "\n",
    "# Print overall metrics\n",
    "print(f\"Overall Accuracy: {overall_accuracy:.3f}\")\n",
    "print(f\"Overall F1 Score: {overall_f1:.3f}\")\n",
    "print(f\"Overall Recall: {overall_recall:.3f}\")\n",
    "print(f\"Overall Precision: {overall_precision:.3f}\")\n"
   ]
  },
  {
   "cell_type": "markdown",
   "metadata": {},
   "source": [
    "### Neural Network"
   ]
  },
  {
   "cell_type": "code",
   "execution_count": 47,
   "metadata": {},
   "outputs": [
    {
     "name": "stdout",
     "output_type": "stream",
     "text": [
      "Epoch 1, Training Loss: 1.5622678995132446, Test Loss: 1.5081590414047241\n",
      "Epoch 2, Training Loss: 1.4601162672042847, Test Loss: 1.4310547709465027\n",
      "Epoch 3, Training Loss: 1.361639400323232, Test Loss: 1.3548843264579773\n",
      "Epoch 4, Training Loss: 1.2602095405260723, Test Loss: 1.2927777767181396\n",
      "Epoch 5, Training Loss: 1.188231348991394, Test Loss: 1.235477328300476\n",
      "Epoch 6, Training Loss: 1.1221661567687988, Test Loss: 1.1714125871658325\n",
      "Epoch 7, Training Loss: 1.0436394214630127, Test Loss: 1.103765606880188\n",
      "Epoch 8, Training Loss: 0.9905903041362762, Test Loss: 1.052256464958191\n",
      "Epoch 9, Training Loss: 0.9113348623116811, Test Loss: 1.0156257152557373\n",
      "Epoch 10, Training Loss: 0.9077787498633066, Test Loss: 0.9910571277141571\n",
      "Epoch 11, Training Loss: 0.869432141383489, Test Loss: 0.9661301970481873\n",
      "Epoch 12, Training Loss: 0.8229291836420695, Test Loss: 0.940977156162262\n",
      "Epoch 13, Training Loss: 0.7903425196806589, Test Loss: 0.9208125472068787\n",
      "Epoch 14, Training Loss: 0.7882639169692993, Test Loss: 0.9080595970153809\n",
      "Epoch 15, Training Loss: 0.758698970079422, Test Loss: 0.9000402390956879\n"
     ]
    },
    {
     "data": {
      "image/png": "[encoded data removed]",
      "text/plain": [
       "<Figure size 1000x500 with 1 Axes>"
      ]
     },
     "metadata": {},
     "output_type": "display_data"
    },
    {
     "name": "stdout",
     "output_type": "stream",
     "text": [
      "              precision    recall  f1-score   support\n",
      "\n",
      "           C       0.74      0.91      0.82        22\n",
      "          PF       0.55      0.44      0.49        25\n",
      "          PG       0.67      0.64      0.65        22\n",
      "          SF       0.37      0.41      0.39        17\n",
      "          SG       0.64      0.62      0.63        29\n",
      "\n",
      "    accuracy                           0.61       115\n",
      "   macro avg       0.59      0.60      0.60       115\n",
      "weighted avg       0.61      0.61      0.60       115\n",
      "\n",
      "Accuracy: 0.609\n",
      "F1 Score: 0.604\n",
      "Recall: 0.609\n",
      "Precision: 0.605\n"
     ]
    }
   ],
   "source": [
    "import torch\n",
    "from torch.utils.data import TensorDataset, DataLoader\n",
    "from torch import nn\n",
    "import torch.optim as optim\n",
    "from sklearn.preprocessing import LabelEncoder\n",
    "import numpy as np\n",
    "import matplotlib.pyplot as plt\n",
    "\n",
    "# Assuming X_train_scaled, X_test_scaled, y_train, y_test are defined elsewhere in your code\n",
    "X_train_tensor = torch.tensor(X_train_scaled.astype(np.float32))\n",
    "X_test_tensor = torch.tensor(X_test_scaled.astype(np.float32))\n",
    "\n",
    "label_encoder = LabelEncoder()\n",
    "y_train_encoded = label_encoder.fit_transform(y_train)\n",
    "y_test_encoded = label_encoder.transform(y_test)\n",
    "\n",
    "y_train_tensor = torch.tensor(y_train_encoded, dtype=torch.long)\n",
    "y_test_tensor = torch.tensor(y_test_encoded, dtype=torch.long)\n",
    "\n",
    "train_dataset = TensorDataset(X_train_tensor, y_train_tensor)\n",
    "test_dataset = TensorDataset(X_test_tensor, y_test_tensor)\n",
    "\n",
    "train_loader = DataLoader(train_dataset, batch_size=64, shuffle=True)\n",
    "test_loader = DataLoader(test_dataset, batch_size=64, shuffle=False)\n",
    "\n",
    "class Net(nn.Module):\n",
    "    def __init__(self):\n",
    "        super(Net, self).__init__()\n",
    "        self.fc1 = nn.Linear(X_train_tensor.shape[1], 128)\n",
    "        self.fc2 = nn.Linear(128, 64)\n",
    "        self.fc3 = nn.Linear(64, len(label_encoder.classes_))\n",
    "        self.relu = nn.ReLU()\n",
    "    \n",
    "    def forward(self, x):\n",
    "        x = self.relu(self.fc1(x))\n",
    "        x = self.relu(self.fc2(x))\n",
    "        x = self.fc3(x)\n",
    "        return x\n",
    "\n",
    "model = Net()\n",
    "criterion = nn.CrossEntropyLoss()\n",
    "optimizer = optim.Adam(model.parameters(), lr=0.001)\n",
    "\n",
    "train_losses = []\n",
    "test_losses = []\n",
    "\n",
    "def train_model(num_epochs):\n",
    "    for epoch in range(num_epochs):\n",
    "        model.train()\n",
    "        train_loss = 0\n",
    "        for data, target in train_loader:\n",
    "            optimizer.zero_grad()\n",
    "            output = model(data)\n",
    "            loss = criterion(output, target)\n",
    "            loss.backward()\n",
    "            optimizer.step()\n",
    "            train_loss += loss.item()\n",
    "        avg_train_loss = train_loss / len(train_loader)\n",
    "        train_losses.append(avg_train_loss)\n",
    "\n",
    "        model.eval()\n",
    "        test_loss = 0\n",
    "        with torch.no_grad():\n",
    "            for data, target in test_loader:\n",
    "                output = model(data)\n",
    "                loss = criterion(output, target)\n",
    "                test_loss += loss.item()\n",
    "        avg_test_loss = test_loss / len(test_loader)\n",
    "        test_losses.append(avg_test_loss)\n",
    "\n",
    "        print(f'Epoch {epoch+1}, Training Loss: {avg_train_loss}, Test Loss: {avg_test_loss}')\n",
    "\n",
    "\n",
    "def evaluate_model():\n",
    "    model.eval()\n",
    "    predictions = []\n",
    "    targets = []\n",
    "    with torch.no_grad():\n",
    "        for data, target in test_loader:\n",
    "            output = model(data)\n",
    "            _, predicted = torch.max(output.data, 1)\n",
    "            predictions.extend(predicted.numpy())\n",
    "            targets.extend(target.numpy())\n",
    "    \n",
    "    report = classification_report(targets, predictions, target_names=label_encoder.classes_, zero_division=0)\n",
    "    print(report)\n",
    "    \n",
    "    accuracy = accuracy_score(targets, predictions)\n",
    "    f1 = f1_score(targets, predictions, average='weighted')\n",
    "    recall = recall_score(targets, predictions, average='weighted')\n",
    "    precision = precision_score(targets, predictions, average='weighted')\n",
    "\n",
    "    print(f'Accuracy: {accuracy:.3f}')\n",
    "    print(f'F1 Score: {f1:.3f}')\n",
    "    print(f'Recall: {recall:.3f}')\n",
    "    print(f'Precision: {precision:.3f}')\n",
    "\n",
    "train_model(15)\n",
    "\n",
    "plt.figure(figsize=(10, 5))\n",
    "plt.plot(train_losses, label='Training Loss')\n",
    "plt.plot(test_losses, label='Test Loss')\n",
    "plt.title('Training and Test Loss')\n",
    "plt.xlabel('Epochs')\n",
    "plt.ylabel('Loss')\n",
    "plt.legend()\n",
    "plt.grid(True)\n",
    "plt.show()\n",
    "\n",
    "evaluate_model()"
   ]
  }
 ],
 "metadata": {
  "kernelspec": {
   "display_name": "Python 3",
   "language": "python",
   "name": "python3"
  },
  "language_info": {
   "codemirror_mode": {
    "name": "ipython",
    "version": 3
   },
   "file_extension": ".py",
   "mimetype": "text/x-python",
   "name": "python",
   "nbconvert_exporter": "python",
   "pygments_lexer": "ipython3",
   "version": "3.11.0"
  }
 },
 "nbformat": 4,
 "nbformat_minor": 2
}
